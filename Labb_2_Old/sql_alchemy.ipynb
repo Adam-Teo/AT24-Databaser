{
 "cells": [
  {
   "cell_type": "code",
   "execution_count": 36,
   "id": "00a2d43b",
   "metadata": {},
   "outputs": [],
   "source": [
    "\n",
    "# Unsafe Connection\n",
    "from sqlalchemy import create_engine, text\n",
    "import pandas as pd\n",
    "\n",
    "server = \"OOO\"\n",
    "database = \"bokhandel\"\n",
    "driver = \"ODBC Driver 17 for SQL Server\"\n",
    "\n",
    "engine = create_engine(f\"mssql+pyodbc://{server}/{database}?Trusted_Connection=yes&driver={driver}\")"
   ]
  },
  {
   "cell_type": "code",
   "execution_count": null,
   "id": "ed0211c0",
   "metadata": {},
   "outputs": [],
   "source": [
    "\n",
    "# Safe User Based Connection\n",
    "from sqlalchemy import create_engine, text\n",
    "import pandas as pd\n",
    "\n",
    "server = \"OOO\"\n",
    "database = \"bokhandel\"\n",
    "driver = \"ODBC Driver 17 for SQL Server\"\n",
    "user = 'new_user' \n",
    "password = 'abc'\n",
    "\n",
    "engine = create_engine(f\"mssql+pyodbc://{user}:{password}@{server}/{database}?driver={driver}\")"
   ]
  },
  {
   "cell_type": "code",
   "execution_count": 13,
   "id": "07557079",
   "metadata": {},
   "outputs": [],
   "source": [
    "with engine.connect() as connection:\n",
    "    pass"
   ]
  },
  {
   "cell_type": "code",
   "execution_count": null,
   "id": "51f332e7",
   "metadata": {},
   "outputs": [
    {
     "ename": "ProgrammingError",
     "evalue": "(pyodbc.ProgrammingError) ('42S02', \"[42S02] [Microsoft][ODBC Driver 17 for SQL Server][SQL Server]Cannot drop the table 'LagerSaldo', because it does not exist or you do not have permission. (3701) (SQLExecDirectW)\")\n[SQL: DROP TABLE LagerSaldo;]\n(Background on this error at: https://sqlalche.me/e/20/f405)",
     "output_type": "error",
     "traceback": [
      "\u001b[31m---------------------------------------------------------------------------\u001b[39m",
      "\u001b[31mProgrammingError\u001b[39m                          Traceback (most recent call last)",
      "\u001b[36mFile \u001b[39m\u001b[32mc:\\Code\\.sqlvenv\\Lib\\site-packages\\sqlalchemy\\engine\\base.py:1964\u001b[39m, in \u001b[36mConnection._exec_single_context\u001b[39m\u001b[34m(self, dialect, context, statement, parameters)\u001b[39m\n\u001b[32m   1963\u001b[39m     \u001b[38;5;28;01mif\u001b[39;00m \u001b[38;5;129;01mnot\u001b[39;00m evt_handled:\n\u001b[32m-> \u001b[39m\u001b[32m1964\u001b[39m         \u001b[38;5;28;43mself\u001b[39;49m\u001b[43m.\u001b[49m\u001b[43mdialect\u001b[49m\u001b[43m.\u001b[49m\u001b[43mdo_execute\u001b[49m\u001b[43m(\u001b[49m\n\u001b[32m   1965\u001b[39m \u001b[43m            \u001b[49m\u001b[43mcursor\u001b[49m\u001b[43m,\u001b[49m\u001b[43m \u001b[49m\u001b[43mstr_statement\u001b[49m\u001b[43m,\u001b[49m\u001b[43m \u001b[49m\u001b[43meffective_parameters\u001b[49m\u001b[43m,\u001b[49m\u001b[43m \u001b[49m\u001b[43mcontext\u001b[49m\n\u001b[32m   1966\u001b[39m \u001b[43m        \u001b[49m\u001b[43m)\u001b[49m\n\u001b[32m   1968\u001b[39m \u001b[38;5;28;01mif\u001b[39;00m \u001b[38;5;28mself\u001b[39m._has_events \u001b[38;5;129;01mor\u001b[39;00m \u001b[38;5;28mself\u001b[39m.engine._has_events:\n",
      "\u001b[36mFile \u001b[39m\u001b[32mc:\\Code\\.sqlvenv\\Lib\\site-packages\\sqlalchemy\\engine\\default.py:945\u001b[39m, in \u001b[36mDefaultDialect.do_execute\u001b[39m\u001b[34m(self, cursor, statement, parameters, context)\u001b[39m\n\u001b[32m    944\u001b[39m \u001b[38;5;28;01mdef\u001b[39;00m\u001b[38;5;250m \u001b[39m\u001b[34mdo_execute\u001b[39m(\u001b[38;5;28mself\u001b[39m, cursor, statement, parameters, context=\u001b[38;5;28;01mNone\u001b[39;00m):\n\u001b[32m--> \u001b[39m\u001b[32m945\u001b[39m     \u001b[43mcursor\u001b[49m\u001b[43m.\u001b[49m\u001b[43mexecute\u001b[49m\u001b[43m(\u001b[49m\u001b[43mstatement\u001b[49m\u001b[43m,\u001b[49m\u001b[43m \u001b[49m\u001b[43mparameters\u001b[49m\u001b[43m)\u001b[49m\n",
      "\u001b[31mProgrammingError\u001b[39m: ('42S02', \"[42S02] [Microsoft][ODBC Driver 17 for SQL Server][SQL Server]Cannot drop the table 'LagerSaldo', because it does not exist or you do not have permission. (3701) (SQLExecDirectW)\")",
      "\nThe above exception was the direct cause of the following exception:\n",
      "\u001b[31mProgrammingError\u001b[39m                          Traceback (most recent call last)",
      "\u001b[36mCell\u001b[39m\u001b[36m \u001b[39m\u001b[32mIn[35]\u001b[39m\u001b[32m, line 4\u001b[39m\n\u001b[32m      1\u001b[39m query = \u001b[33m\"\u001b[39m\u001b[33mDROP TABLE LagerSaldo;\u001b[39m\u001b[33m\"\u001b[39m\n\u001b[32m      2\u001b[39m \u001b[38;5;28;01mwith\u001b[39;00m engine.connect() \u001b[38;5;28;01mas\u001b[39;00m connection:\n\u001b[32m----> \u001b[39m\u001b[32m4\u001b[39m     \u001b[43mconnection\u001b[49m\u001b[43m.\u001b[49m\u001b[43mexecute\u001b[49m\u001b[43m(\u001b[49m\u001b[43mtext\u001b[49m\u001b[43m(\u001b[49m\u001b[43mquery\u001b[49m\u001b[43m)\u001b[49m\u001b[43m)\u001b[49m\n\u001b[32m      5\u001b[39m     connection.commit()\n",
      "\u001b[36mFile \u001b[39m\u001b[32mc:\\Code\\.sqlvenv\\Lib\\site-packages\\sqlalchemy\\engine\\base.py:1416\u001b[39m, in \u001b[36mConnection.execute\u001b[39m\u001b[34m(self, statement, parameters, execution_options)\u001b[39m\n\u001b[32m   1414\u001b[39m     \u001b[38;5;28;01mraise\u001b[39;00m exc.ObjectNotExecutableError(statement) \u001b[38;5;28;01mfrom\u001b[39;00m\u001b[38;5;250m \u001b[39m\u001b[34;01merr\u001b[39;00m\n\u001b[32m   1415\u001b[39m \u001b[38;5;28;01melse\u001b[39;00m:\n\u001b[32m-> \u001b[39m\u001b[32m1416\u001b[39m     \u001b[38;5;28;01mreturn\u001b[39;00m \u001b[43mmeth\u001b[49m\u001b[43m(\u001b[49m\n\u001b[32m   1417\u001b[39m \u001b[43m        \u001b[49m\u001b[38;5;28;43mself\u001b[39;49m\u001b[43m,\u001b[49m\n\u001b[32m   1418\u001b[39m \u001b[43m        \u001b[49m\u001b[43mdistilled_parameters\u001b[49m\u001b[43m,\u001b[49m\n\u001b[32m   1419\u001b[39m \u001b[43m        \u001b[49m\u001b[43mexecution_options\u001b[49m\u001b[43m \u001b[49m\u001b[38;5;129;43;01mor\u001b[39;49;00m\u001b[43m \u001b[49m\u001b[43mNO_OPTIONS\u001b[49m\u001b[43m,\u001b[49m\n\u001b[32m   1420\u001b[39m \u001b[43m    \u001b[49m\u001b[43m)\u001b[49m\n",
      "\u001b[36mFile \u001b[39m\u001b[32mc:\\Code\\.sqlvenv\\Lib\\site-packages\\sqlalchemy\\sql\\elements.py:523\u001b[39m, in \u001b[36mClauseElement._execute_on_connection\u001b[39m\u001b[34m(self, connection, distilled_params, execution_options)\u001b[39m\n\u001b[32m    521\u001b[39m     \u001b[38;5;28;01mif\u001b[39;00m TYPE_CHECKING:\n\u001b[32m    522\u001b[39m         \u001b[38;5;28;01massert\u001b[39;00m \u001b[38;5;28misinstance\u001b[39m(\u001b[38;5;28mself\u001b[39m, Executable)\n\u001b[32m--> \u001b[39m\u001b[32m523\u001b[39m     \u001b[38;5;28;01mreturn\u001b[39;00m \u001b[43mconnection\u001b[49m\u001b[43m.\u001b[49m\u001b[43m_execute_clauseelement\u001b[49m\u001b[43m(\u001b[49m\n\u001b[32m    524\u001b[39m \u001b[43m        \u001b[49m\u001b[38;5;28;43mself\u001b[39;49m\u001b[43m,\u001b[49m\u001b[43m \u001b[49m\u001b[43mdistilled_params\u001b[49m\u001b[43m,\u001b[49m\u001b[43m \u001b[49m\u001b[43mexecution_options\u001b[49m\n\u001b[32m    525\u001b[39m \u001b[43m    \u001b[49m\u001b[43m)\u001b[49m\n\u001b[32m    526\u001b[39m \u001b[38;5;28;01melse\u001b[39;00m:\n\u001b[32m    527\u001b[39m     \u001b[38;5;28;01mraise\u001b[39;00m exc.ObjectNotExecutableError(\u001b[38;5;28mself\u001b[39m)\n",
      "\u001b[36mFile \u001b[39m\u001b[32mc:\\Code\\.sqlvenv\\Lib\\site-packages\\sqlalchemy\\engine\\base.py:1638\u001b[39m, in \u001b[36mConnection._execute_clauseelement\u001b[39m\u001b[34m(self, elem, distilled_parameters, execution_options)\u001b[39m\n\u001b[32m   1626\u001b[39m compiled_cache: Optional[CompiledCacheType] = execution_options.get(\n\u001b[32m   1627\u001b[39m     \u001b[33m\"\u001b[39m\u001b[33mcompiled_cache\u001b[39m\u001b[33m\"\u001b[39m, \u001b[38;5;28mself\u001b[39m.engine._compiled_cache\n\u001b[32m   1628\u001b[39m )\n\u001b[32m   1630\u001b[39m compiled_sql, extracted_params, cache_hit = elem._compile_w_cache(\n\u001b[32m   1631\u001b[39m     dialect=dialect,\n\u001b[32m   1632\u001b[39m     compiled_cache=compiled_cache,\n\u001b[32m   (...)\u001b[39m\u001b[32m   1636\u001b[39m     linting=\u001b[38;5;28mself\u001b[39m.dialect.compiler_linting | compiler.WARN_LINTING,\n\u001b[32m   1637\u001b[39m )\n\u001b[32m-> \u001b[39m\u001b[32m1638\u001b[39m ret = \u001b[38;5;28;43mself\u001b[39;49m\u001b[43m.\u001b[49m\u001b[43m_execute_context\u001b[49m\u001b[43m(\u001b[49m\n\u001b[32m   1639\u001b[39m \u001b[43m    \u001b[49m\u001b[43mdialect\u001b[49m\u001b[43m,\u001b[49m\n\u001b[32m   1640\u001b[39m \u001b[43m    \u001b[49m\u001b[43mdialect\u001b[49m\u001b[43m.\u001b[49m\u001b[43mexecution_ctx_cls\u001b[49m\u001b[43m.\u001b[49m\u001b[43m_init_compiled\u001b[49m\u001b[43m,\u001b[49m\n\u001b[32m   1641\u001b[39m \u001b[43m    \u001b[49m\u001b[43mcompiled_sql\u001b[49m\u001b[43m,\u001b[49m\n\u001b[32m   1642\u001b[39m \u001b[43m    \u001b[49m\u001b[43mdistilled_parameters\u001b[49m\u001b[43m,\u001b[49m\n\u001b[32m   1643\u001b[39m \u001b[43m    \u001b[49m\u001b[43mexecution_options\u001b[49m\u001b[43m,\u001b[49m\n\u001b[32m   1644\u001b[39m \u001b[43m    \u001b[49m\u001b[43mcompiled_sql\u001b[49m\u001b[43m,\u001b[49m\n\u001b[32m   1645\u001b[39m \u001b[43m    \u001b[49m\u001b[43mdistilled_parameters\u001b[49m\u001b[43m,\u001b[49m\n\u001b[32m   1646\u001b[39m \u001b[43m    \u001b[49m\u001b[43melem\u001b[49m\u001b[43m,\u001b[49m\n\u001b[32m   1647\u001b[39m \u001b[43m    \u001b[49m\u001b[43mextracted_params\u001b[49m\u001b[43m,\u001b[49m\n\u001b[32m   1648\u001b[39m \u001b[43m    \u001b[49m\u001b[43mcache_hit\u001b[49m\u001b[43m=\u001b[49m\u001b[43mcache_hit\u001b[49m\u001b[43m,\u001b[49m\n\u001b[32m   1649\u001b[39m \u001b[43m\u001b[49m\u001b[43m)\u001b[49m\n\u001b[32m   1650\u001b[39m \u001b[38;5;28;01mif\u001b[39;00m has_events:\n\u001b[32m   1651\u001b[39m     \u001b[38;5;28mself\u001b[39m.dispatch.after_execute(\n\u001b[32m   1652\u001b[39m         \u001b[38;5;28mself\u001b[39m,\n\u001b[32m   1653\u001b[39m         elem,\n\u001b[32m   (...)\u001b[39m\u001b[32m   1657\u001b[39m         ret,\n\u001b[32m   1658\u001b[39m     )\n",
      "\u001b[36mFile \u001b[39m\u001b[32mc:\\Code\\.sqlvenv\\Lib\\site-packages\\sqlalchemy\\engine\\base.py:1843\u001b[39m, in \u001b[36mConnection._execute_context\u001b[39m\u001b[34m(self, dialect, constructor, statement, parameters, execution_options, *args, **kw)\u001b[39m\n\u001b[32m   1841\u001b[39m     \u001b[38;5;28;01mreturn\u001b[39;00m \u001b[38;5;28mself\u001b[39m._exec_insertmany_context(dialect, context)\n\u001b[32m   1842\u001b[39m \u001b[38;5;28;01melse\u001b[39;00m:\n\u001b[32m-> \u001b[39m\u001b[32m1843\u001b[39m     \u001b[38;5;28;01mreturn\u001b[39;00m \u001b[38;5;28;43mself\u001b[39;49m\u001b[43m.\u001b[49m\u001b[43m_exec_single_context\u001b[49m\u001b[43m(\u001b[49m\n\u001b[32m   1844\u001b[39m \u001b[43m        \u001b[49m\u001b[43mdialect\u001b[49m\u001b[43m,\u001b[49m\u001b[43m \u001b[49m\u001b[43mcontext\u001b[49m\u001b[43m,\u001b[49m\u001b[43m \u001b[49m\u001b[43mstatement\u001b[49m\u001b[43m,\u001b[49m\u001b[43m \u001b[49m\u001b[43mparameters\u001b[49m\n\u001b[32m   1845\u001b[39m \u001b[43m    \u001b[49m\u001b[43m)\u001b[49m\n",
      "\u001b[36mFile \u001b[39m\u001b[32mc:\\Code\\.sqlvenv\\Lib\\site-packages\\sqlalchemy\\engine\\base.py:1983\u001b[39m, in \u001b[36mConnection._exec_single_context\u001b[39m\u001b[34m(self, dialect, context, statement, parameters)\u001b[39m\n\u001b[32m   1980\u001b[39m     result = context._setup_result_proxy()\n\u001b[32m   1982\u001b[39m \u001b[38;5;28;01mexcept\u001b[39;00m \u001b[38;5;167;01mBaseException\u001b[39;00m \u001b[38;5;28;01mas\u001b[39;00m e:\n\u001b[32m-> \u001b[39m\u001b[32m1983\u001b[39m     \u001b[38;5;28;43mself\u001b[39;49m\u001b[43m.\u001b[49m\u001b[43m_handle_dbapi_exception\u001b[49m\u001b[43m(\u001b[49m\n\u001b[32m   1984\u001b[39m \u001b[43m        \u001b[49m\u001b[43me\u001b[49m\u001b[43m,\u001b[49m\u001b[43m \u001b[49m\u001b[43mstr_statement\u001b[49m\u001b[43m,\u001b[49m\u001b[43m \u001b[49m\u001b[43meffective_parameters\u001b[49m\u001b[43m,\u001b[49m\u001b[43m \u001b[49m\u001b[43mcursor\u001b[49m\u001b[43m,\u001b[49m\u001b[43m \u001b[49m\u001b[43mcontext\u001b[49m\n\u001b[32m   1985\u001b[39m \u001b[43m    \u001b[49m\u001b[43m)\u001b[49m\n\u001b[32m   1987\u001b[39m \u001b[38;5;28;01mreturn\u001b[39;00m result\n",
      "\u001b[36mFile \u001b[39m\u001b[32mc:\\Code\\.sqlvenv\\Lib\\site-packages\\sqlalchemy\\engine\\base.py:2352\u001b[39m, in \u001b[36mConnection._handle_dbapi_exception\u001b[39m\u001b[34m(self, e, statement, parameters, cursor, context, is_sub_exec)\u001b[39m\n\u001b[32m   2350\u001b[39m \u001b[38;5;28;01melif\u001b[39;00m should_wrap:\n\u001b[32m   2351\u001b[39m     \u001b[38;5;28;01massert\u001b[39;00m sqlalchemy_exception \u001b[38;5;129;01mis\u001b[39;00m \u001b[38;5;129;01mnot\u001b[39;00m \u001b[38;5;28;01mNone\u001b[39;00m\n\u001b[32m-> \u001b[39m\u001b[32m2352\u001b[39m     \u001b[38;5;28;01mraise\u001b[39;00m sqlalchemy_exception.with_traceback(exc_info[\u001b[32m2\u001b[39m]) \u001b[38;5;28;01mfrom\u001b[39;00m\u001b[38;5;250m \u001b[39m\u001b[34;01me\u001b[39;00m\n\u001b[32m   2353\u001b[39m \u001b[38;5;28;01melse\u001b[39;00m:\n\u001b[32m   2354\u001b[39m     \u001b[38;5;28;01massert\u001b[39;00m exc_info[\u001b[32m1\u001b[39m] \u001b[38;5;129;01mis\u001b[39;00m \u001b[38;5;129;01mnot\u001b[39;00m \u001b[38;5;28;01mNone\u001b[39;00m\n",
      "\u001b[36mFile \u001b[39m\u001b[32mc:\\Code\\.sqlvenv\\Lib\\site-packages\\sqlalchemy\\engine\\base.py:1964\u001b[39m, in \u001b[36mConnection._exec_single_context\u001b[39m\u001b[34m(self, dialect, context, statement, parameters)\u001b[39m\n\u001b[32m   1962\u001b[39m                 \u001b[38;5;28;01mbreak\u001b[39;00m\n\u001b[32m   1963\u001b[39m     \u001b[38;5;28;01mif\u001b[39;00m \u001b[38;5;129;01mnot\u001b[39;00m evt_handled:\n\u001b[32m-> \u001b[39m\u001b[32m1964\u001b[39m         \u001b[38;5;28;43mself\u001b[39;49m\u001b[43m.\u001b[49m\u001b[43mdialect\u001b[49m\u001b[43m.\u001b[49m\u001b[43mdo_execute\u001b[49m\u001b[43m(\u001b[49m\n\u001b[32m   1965\u001b[39m \u001b[43m            \u001b[49m\u001b[43mcursor\u001b[49m\u001b[43m,\u001b[49m\u001b[43m \u001b[49m\u001b[43mstr_statement\u001b[49m\u001b[43m,\u001b[49m\u001b[43m \u001b[49m\u001b[43meffective_parameters\u001b[49m\u001b[43m,\u001b[49m\u001b[43m \u001b[49m\u001b[43mcontext\u001b[49m\n\u001b[32m   1966\u001b[39m \u001b[43m        \u001b[49m\u001b[43m)\u001b[49m\n\u001b[32m   1968\u001b[39m \u001b[38;5;28;01mif\u001b[39;00m \u001b[38;5;28mself\u001b[39m._has_events \u001b[38;5;129;01mor\u001b[39;00m \u001b[38;5;28mself\u001b[39m.engine._has_events:\n\u001b[32m   1969\u001b[39m     \u001b[38;5;28mself\u001b[39m.dispatch.after_cursor_execute(\n\u001b[32m   1970\u001b[39m         \u001b[38;5;28mself\u001b[39m,\n\u001b[32m   1971\u001b[39m         cursor,\n\u001b[32m   (...)\u001b[39m\u001b[32m   1975\u001b[39m         context.executemany,\n\u001b[32m   1976\u001b[39m     )\n",
      "\u001b[36mFile \u001b[39m\u001b[32mc:\\Code\\.sqlvenv\\Lib\\site-packages\\sqlalchemy\\engine\\default.py:945\u001b[39m, in \u001b[36mDefaultDialect.do_execute\u001b[39m\u001b[34m(self, cursor, statement, parameters, context)\u001b[39m\n\u001b[32m    944\u001b[39m \u001b[38;5;28;01mdef\u001b[39;00m\u001b[38;5;250m \u001b[39m\u001b[34mdo_execute\u001b[39m(\u001b[38;5;28mself\u001b[39m, cursor, statement, parameters, context=\u001b[38;5;28;01mNone\u001b[39;00m):\n\u001b[32m--> \u001b[39m\u001b[32m945\u001b[39m     \u001b[43mcursor\u001b[49m\u001b[43m.\u001b[49m\u001b[43mexecute\u001b[49m\u001b[43m(\u001b[49m\u001b[43mstatement\u001b[49m\u001b[43m,\u001b[49m\u001b[43m \u001b[49m\u001b[43mparameters\u001b[49m\u001b[43m)\u001b[49m\n",
      "\u001b[31mProgrammingError\u001b[39m: (pyodbc.ProgrammingError) ('42S02', \"[42S02] [Microsoft][ODBC Driver 17 for SQL Server][SQL Server]Cannot drop the table 'LagerSaldo', because it does not exist or you do not have permission. (3701) (SQLExecDirectW)\")\n[SQL: DROP TABLE LagerSaldo;]\n(Background on this error at: https://sqlalche.me/e/20/f405)"
     ]
    }
   ],
   "source": [
    "query = \"DROP TABLE LagerSaldo;\"\n",
    "with engine.connect() as connection:\n",
    "    connection.execute(text(query))\n",
    "    connection.commit()"
   ]
  },
  {
   "cell_type": "code",
   "execution_count": null,
   "id": "7eb805f4",
   "metadata": {},
   "outputs": [],
   "source": [
    "# Unsafe Query, if you have a safe user based connection where the user is \n",
    "# restricted to SELECt then this whould be safe \n",
    "user_input = \"bobs bookshop'; DROP TABLE LagerSaldo --\"\n",
    "query = f\"\"\" \n",
    "SELECT ButiksNamn\n",
    "FROM [Butiker] \n",
    "WHERE ButiksNamn LIKE '%{user_input}%'\n",
    "\"\"\"\n",
    "\n",
    "with engine.connect() as connection:\n",
    "    result = connection.execute(text(query))\n",
    "    connection.commit()"
   ]
  },
  {
   "cell_type": "code",
   "execution_count": null,
   "id": "d079e2fb",
   "metadata": {},
   "outputs": [],
   "source": [
    "# Safe Query, this could be used with the unsafe connection and \n",
    "# still prevent the SQL injection because SQL Alchemy handels the \n",
    "# string sanitization  \n",
    "user_input = \"bobs bookshop'; DROP TABLE LagerSaldo --\"\n",
    "query = f\"\"\" \n",
    "SELECT ButiksNamn\n",
    "FROM [Butiker] \n",
    "WHERE ButiksNamn LIKE '%:user_value%'\n",
    "\"\"\"\n",
    "\n",
    "with engine.connect() as connection:\n",
    "    result = connection.execute(text(query), {\"user_vlaue\": user_input})\n",
    "    connection.commit()"
   ]
  },
  {
   "cell_type": "code",
   "execution_count": null,
   "id": "01f1935d",
   "metadata": {},
   "outputs": [],
   "source": [
    "with engine.connect() as connection:\n",
    "    # Use a named parameter (e.g., :value)\n",
    "    query_template = text(\"INSERT INTO MyTable (MyColumn) VALUES (:user_input_param)\")\n",
    "    # Pass the user input as a dictionary mapping parameter names to values\n",
    "    connection.execute(query_template, {\"user_input_param\": user_value})\n",
    "    connection.commit()"
   ]
  },
  {
   "cell_type": "code",
   "execution_count": 17,
   "id": "1620bcd5",
   "metadata": {},
   "outputs": [
    {
     "data": {
      "application/vnd.microsoft.datawrangler.viewer.v0+json": {
       "columns": [
        {
         "name": "index",
         "rawType": "int64",
         "type": "integer"
        },
        {
         "name": "Butik",
         "rawType": "object",
         "type": "string"
        },
        {
         "name": "Boktitle",
         "rawType": "object",
         "type": "string"
        },
        {
         "name": "Exemplar",
         "rawType": "int64",
         "type": "integer"
        }
       ],
       "conversionMethod": "pd.DataFrame",
       "ref": "f594b07e-20bf-4871-947e-6524a26a9757",
       "rows": [
        [
         "0",
         "The Fox",
         "A Midsummer Day",
         "10"
        ],
        [
         "1",
         "The Hound",
         "The Drive West",
         "3"
        ],
        [
         "2",
         "The Hound",
         "Nightmare Friday",
         "8"
        ],
        [
         "3",
         "The Hound",
         "A Midsummer Day",
         "0"
        ],
        [
         "4",
         "The Hound",
         "Grimhaven",
         "9"
        ],
        [
         "5",
         "The Goose",
         "The Big Smile",
         "4"
        ],
        [
         "6",
         "The Badger",
         "A Field of Cannons",
         "21"
        ],
        [
         "7",
         "The Badger",
         "The Drive West",
         "1"
        ],
        [
         "8",
         "The Crane",
         "The Big Smile",
         "5"
        ],
        [
         "9",
         "The Crane",
         "Nightmare Friday",
         "2"
        ]
       ],
       "shape": {
        "columns": 3,
        "rows": 10
       }
      },
      "text/html": [
       "<div>\n",
       "<style scoped>\n",
       "    .dataframe tbody tr th:only-of-type {\n",
       "        vertical-align: middle;\n",
       "    }\n",
       "\n",
       "    .dataframe tbody tr th {\n",
       "        vertical-align: top;\n",
       "    }\n",
       "\n",
       "    .dataframe thead th {\n",
       "        text-align: right;\n",
       "    }\n",
       "</style>\n",
       "<table border=\"1\" class=\"dataframe\">\n",
       "  <thead>\n",
       "    <tr style=\"text-align: right;\">\n",
       "      <th></th>\n",
       "      <th>Butik</th>\n",
       "      <th>Boktitle</th>\n",
       "      <th>Exemplar</th>\n",
       "    </tr>\n",
       "  </thead>\n",
       "  <tbody>\n",
       "    <tr>\n",
       "      <th>0</th>\n",
       "      <td>The Fox</td>\n",
       "      <td>A Midsummer Day</td>\n",
       "      <td>10</td>\n",
       "    </tr>\n",
       "    <tr>\n",
       "      <th>1</th>\n",
       "      <td>The Hound</td>\n",
       "      <td>The Drive West</td>\n",
       "      <td>3</td>\n",
       "    </tr>\n",
       "    <tr>\n",
       "      <th>2</th>\n",
       "      <td>The Hound</td>\n",
       "      <td>Nightmare Friday</td>\n",
       "      <td>8</td>\n",
       "    </tr>\n",
       "    <tr>\n",
       "      <th>3</th>\n",
       "      <td>The Hound</td>\n",
       "      <td>A Midsummer Day</td>\n",
       "      <td>0</td>\n",
       "    </tr>\n",
       "    <tr>\n",
       "      <th>4</th>\n",
       "      <td>The Hound</td>\n",
       "      <td>Grimhaven</td>\n",
       "      <td>9</td>\n",
       "    </tr>\n",
       "    <tr>\n",
       "      <th>5</th>\n",
       "      <td>The Goose</td>\n",
       "      <td>The Big Smile</td>\n",
       "      <td>4</td>\n",
       "    </tr>\n",
       "    <tr>\n",
       "      <th>6</th>\n",
       "      <td>The Badger</td>\n",
       "      <td>A Field of Cannons</td>\n",
       "      <td>21</td>\n",
       "    </tr>\n",
       "    <tr>\n",
       "      <th>7</th>\n",
       "      <td>The Badger</td>\n",
       "      <td>The Drive West</td>\n",
       "      <td>1</td>\n",
       "    </tr>\n",
       "    <tr>\n",
       "      <th>8</th>\n",
       "      <td>The Crane</td>\n",
       "      <td>The Big Smile</td>\n",
       "      <td>5</td>\n",
       "    </tr>\n",
       "    <tr>\n",
       "      <th>9</th>\n",
       "      <td>The Crane</td>\n",
       "      <td>Nightmare Friday</td>\n",
       "      <td>2</td>\n",
       "    </tr>\n",
       "  </tbody>\n",
       "</table>\n",
       "</div>"
      ],
      "text/plain": [
       "        Butik            Boktitle  Exemplar\n",
       "0     The Fox     A Midsummer Day        10\n",
       "1   The Hound      The Drive West         3\n",
       "2   The Hound    Nightmare Friday         8\n",
       "3   The Hound     A Midsummer Day         0\n",
       "4   The Hound           Grimhaven         9\n",
       "5   The Goose       The Big Smile         4\n",
       "6  The Badger  A Field of Cannons        21\n",
       "7  The Badger      The Drive West         1\n",
       "8   The Crane       The Big Smile         5\n",
       "9   The Crane    Nightmare Friday         2"
      ]
     },
     "execution_count": 17,
     "metadata": {},
     "output_type": "execute_result"
    }
   ],
   "source": [
    "user_input = input()\n",
    "query = f\"\"\" \n",
    "SELECT ButiksNamn, Title, Antal\n",
    "FROM [Butiker] \n",
    "JOIN [LagerSaldo] ON [Butiker].[ID] = [LagerSaldo].[ButikID]\n",
    "JOIN [Böcker] ON [LagerSaldo].[ISBN13] = [Böcker].[ISBN13]\n",
    "WHERE Title LIKE '%{user_input}%'\n",
    "\"\"\"\n",
    "\n",
    "query_2 = \"\"\" \n",
    "DROP TABLE LagerSaldo\n",
    "\"\"\"\n",
    "\n",
    "with engine.connect() as connection:\n",
    "    # connection = connection.execution_options(\n",
    "    #     isolation_level = \"SERIALIZABLE\",\n",
    "    #     postgresql_readonly=True, \n",
    "    #     postgresql_deferrable=True \n",
    "    # )\n",
    "    \n",
    "    # Using a raw SQL query with text()\n",
    "    \n",
    "    result = connection.execute(text(query))\n",
    "    \n",
    "    \n",
    "    df = pd.DataFrame(data=result, columns=[\"Butik\", \"Boktitle\", \"Exemplar\"] )\n",
    "    \n",
    "    #for row in result: \n",
    "    #    print(row)\n",
    "df\n"
   ]
  },
  {
   "cell_type": "markdown",
   "id": "e96c93f6",
   "metadata": {},
   "source": [
    "# TABELS and Columns\n",
    "\n",
    "### Tabel: Böcker\n",
    "Besides PRIMARY KEY the CONSTRAINT on ISBN13 where set to\n",
    "    CHECK ([ISBN13] LIKE '___-_-___-_____-_') \n",
    "Which makes sure the length and formating of the ISBN13 string\n",
    "is correct thanks to the _ wildcard, howerver it can safegaurd against putting in letters instead of numbers. \n",
    "Two more colums where added, 'AntalSidor' aka how many pages there is the book and 'Format' of the book ex pocket or bunden\n",
    "\n",
    "### Table : Inköp \n",
    "This is one of four new tables that contains the order that the bookstores have placed. It contains data such as the amount of books when the books where ordered and when there excpected to arrive. This seems like a usefull table for stores to have to keep track of orders in progress as well as being able to refere back to past orders. \n",
    "\n",
    "### Tables: Anstälda & Roll\n",
    "Anstälda is the secnond new table, it contains the contact information for the employes that working at the stores, it also linked to the third new table that contains the rolls that the employes takes on, in this case the rolls is a seperate table allowing for the personal to have multiple jobs like 'Inköpare' och 'Butiksägare'. \n",
    "These can be good for a bookshop to have so one can easily find the contact information for the employees and if you want to contact another store the roller will help you find the right person in an other store.\n",
    "\n",
    "### Table: Genre \n",
    "This is the forth table and it allows one book to have multiple genres and it can make it easier for the store to check what type of genres sell the best.\n"
   ]
  },
  {
   "cell_type": "markdown",
   "id": "519cb26b",
   "metadata": {},
   "source": [
    "# VIEW \n",
    "\n",
    "### TitlarPerFörfatter\n",
    "Lagerantal was addad to give some more context to Lagervärde.\n",
    "There might have been a better solution but because Namn used an Alias that wasen't created untill after the GROUP BY part had been executed and Namn needed to be either aggregated or added to the GROUP BY else the query wouldn't have worked. The soluntion was to use CROSS APPLY so that the Alias could be declared before the GROUP BY and thus could be used with the GROUP BY.\n"
   ]
  },
  {
   "cell_type": "code",
   "execution_count": 44,
   "id": "ee52ebcd",
   "metadata": {},
   "outputs": [
    {
     "data": {
      "application/vnd.microsoft.datawrangler.viewer.v0+json": {
       "columns": [
        {
         "name": "index",
         "rawType": "int64",
         "type": "integer"
        },
        {
         "name": "Namn",
         "rawType": "object",
         "type": "string"
        },
        {
         "name": "Ålder",
         "rawType": "object",
         "type": "string"
        },
        {
         "name": "Titlar",
         "rawType": "object",
         "type": "string"
        },
        {
         "name": "Lagerantal",
         "rawType": "object",
         "type": "string"
        },
        {
         "name": "Lagervärde",
         "rawType": "object",
         "type": "string"
        }
       ],
       "conversionMethod": "pd.DataFrame",
       "ref": "279d1056-ab1a-4f4f-b451-6913d88b3b64",
       "rows": [
        [
         "0",
         "Will Russel",
         "70 År",
         "4 st",
         "66 st",
         "3419 kr"
        ]
       ],
       "shape": {
        "columns": 5,
        "rows": 1
       }
      },
      "text/html": [
       "<div>\n",
       "<style scoped>\n",
       "    .dataframe tbody tr th:only-of-type {\n",
       "        vertical-align: middle;\n",
       "    }\n",
       "\n",
       "    .dataframe tbody tr th {\n",
       "        vertical-align: top;\n",
       "    }\n",
       "\n",
       "    .dataframe thead th {\n",
       "        text-align: right;\n",
       "    }\n",
       "</style>\n",
       "<table border=\"1\" class=\"dataframe\">\n",
       "  <thead>\n",
       "    <tr style=\"text-align: right;\">\n",
       "      <th></th>\n",
       "      <th>Namn</th>\n",
       "      <th>Ålder</th>\n",
       "      <th>Titlar</th>\n",
       "      <th>Lagerantal</th>\n",
       "      <th>Lagervärde</th>\n",
       "    </tr>\n",
       "  </thead>\n",
       "  <tbody>\n",
       "    <tr>\n",
       "      <th>0</th>\n",
       "      <td>Will Russel</td>\n",
       "      <td>70 År</td>\n",
       "      <td>4 st</td>\n",
       "      <td>66 st</td>\n",
       "      <td>3419 kr</td>\n",
       "    </tr>\n",
       "  </tbody>\n",
       "</table>\n",
       "</div>"
      ],
      "text/plain": [
       "          Namn  Ålder Titlar Lagerantal Lagervärde\n",
       "0  Will Russel  70 År   4 st      66 st    3419 kr"
      ]
     },
     "execution_count": 44,
     "metadata": {},
     "output_type": "execute_result"
    }
   ],
   "source": [
    "query = \"SELECT TOP 1 * FROM TitlarPerFörfattare\"\n",
    "with engine.connect() as connection:\n",
    "    result = connection.execute(text(query))\n",
    "    df = pd.DataFrame(data=result, columns=[\"Namn\", \"Ålder\", \"Titlar\", \"Lagerantal\", \"Lagervärde\"] )\n",
    "df"
   ]
  },
  {
   "cell_type": "markdown",
   "id": "0cd0f026",
   "metadata": {},
   "source": [
    "### Personalinköp\n",
    "This View keeps tracks on how many books a employ has order and the total value of the books. This could be an intresting statistic to keep track of, it can indicate when a store needs to hire a person dedicated to placing orders or if coupled with how well books have sold this could indicate conditions for a promotion.  "
   ]
  },
  {
   "cell_type": "code",
   "execution_count": 45,
   "id": "0ae1335d",
   "metadata": {},
   "outputs": [
    {
     "data": {
      "application/vnd.microsoft.datawrangler.viewer.v0+json": {
       "columns": [
        {
         "name": "index",
         "rawType": "int64",
         "type": "integer"
        },
        {
         "name": "Namn",
         "rawType": "object",
         "type": "string"
        },
        {
         "name": "Antal Bestälda Böcker",
         "rawType": "object",
         "type": "string"
        },
        {
         "name": "Totatlt Bestälnings Värde",
         "rawType": "object",
         "type": "string"
        }
       ],
       "conversionMethod": "pd.DataFrame",
       "ref": "e33bd4e2-e0fe-42d8-84e7-8b6c1878d4b7",
       "rows": [
        [
         "0",
         "David Svensson",
         "16 st",
         "984 kr"
        ],
        [
         "1",
         "Erik Bergman",
         "13 st",
         "599 kr"
        ],
        [
         "2",
         "Fatima Khan",
         "28 st",
         "2503 kr"
        ],
        [
         "3",
         "Johana Strong",
         "98 st",
         "6298 kr"
        ],
        [
         "4",
         "Julia Eriksson",
         "49 st",
         "4118 kr"
        ]
       ],
       "shape": {
        "columns": 3,
        "rows": 5
       }
      },
      "text/html": [
       "<div>\n",
       "<style scoped>\n",
       "    .dataframe tbody tr th:only-of-type {\n",
       "        vertical-align: middle;\n",
       "    }\n",
       "\n",
       "    .dataframe tbody tr th {\n",
       "        vertical-align: top;\n",
       "    }\n",
       "\n",
       "    .dataframe thead th {\n",
       "        text-align: right;\n",
       "    }\n",
       "</style>\n",
       "<table border=\"1\" class=\"dataframe\">\n",
       "  <thead>\n",
       "    <tr style=\"text-align: right;\">\n",
       "      <th></th>\n",
       "      <th>Namn</th>\n",
       "      <th>Antal Bestälda Böcker</th>\n",
       "      <th>Totatlt Bestälnings Värde</th>\n",
       "    </tr>\n",
       "  </thead>\n",
       "  <tbody>\n",
       "    <tr>\n",
       "      <th>0</th>\n",
       "      <td>David Svensson</td>\n",
       "      <td>16 st</td>\n",
       "      <td>984 kr</td>\n",
       "    </tr>\n",
       "    <tr>\n",
       "      <th>1</th>\n",
       "      <td>Erik Bergman</td>\n",
       "      <td>13 st</td>\n",
       "      <td>599 kr</td>\n",
       "    </tr>\n",
       "    <tr>\n",
       "      <th>2</th>\n",
       "      <td>Fatima Khan</td>\n",
       "      <td>28 st</td>\n",
       "      <td>2503 kr</td>\n",
       "    </tr>\n",
       "    <tr>\n",
       "      <th>3</th>\n",
       "      <td>Johana Strong</td>\n",
       "      <td>98 st</td>\n",
       "      <td>6298 kr</td>\n",
       "    </tr>\n",
       "    <tr>\n",
       "      <th>4</th>\n",
       "      <td>Julia Eriksson</td>\n",
       "      <td>49 st</td>\n",
       "      <td>4118 kr</td>\n",
       "    </tr>\n",
       "  </tbody>\n",
       "</table>\n",
       "</div>"
      ],
      "text/plain": [
       "             Namn Antal Bestälda Böcker Totatlt Bestälnings Värde\n",
       "0  David Svensson                 16 st                    984 kr\n",
       "1    Erik Bergman                 13 st                    599 kr\n",
       "2     Fatima Khan                 28 st                   2503 kr\n",
       "3   Johana Strong                 98 st                   6298 kr\n",
       "4  Julia Eriksson                 49 st                   4118 kr"
      ]
     },
     "execution_count": 45,
     "metadata": {},
     "output_type": "execute_result"
    }
   ],
   "source": [
    "query = \"SELECT TOP 5 * FROM Personalinköp \"\n",
    "with engine.connect() as connection:\n",
    "    result = connection.execute(text(query))\n",
    "    df = pd.DataFrame(data=result, columns=[\"Namn\", \"Antal Bestälda Böcker\", \"Totatlt Bestälnings Värde\"] )\n",
    "df"
   ]
  },
  {
   "cell_type": "markdown",
   "id": "d95c873d",
   "metadata": {},
   "source": [
    "# Stored Porcedure\n",
    "\n",
    "\n",
    "I used an LLM `Geini 2.0` to generate the TRY Catch and Error part of the Store Procedure\n",
    "\n",
    "    I have this t-sql code and I have a CONSTRAINT on Antal, \n",
    "    Antal can never be lower then 0. I'm using BEGIN TRANSACTION to try \n",
    "    and prevent the first UPDATE to execute unless the second UPDATE also \n",
    "    gets executed but it doesn't work, the second UPDATE fail and the \n",
    "    first UPDATE stil gets executed\n",
    "    ` CODE `\n",
    "\n",
    "    ...\n",
    "\n",
    "    Gem I have this t-sql stored procedure, it works but the problem is \n",
    "    that it doesn't rollback when one of the updates effekts zero rows\n",
    "    ` CODE `\n",
    "\n",
    "\n",
    "The user can't execute this Stored Procedure because it alters tthe tables of the database.\n",
    "I should give the user more access or use a differnt user account, but I'm lazy and so \n",
    "I am going with the Unsafe Windows Authentication Connection."
   ]
  },
  {
   "cell_type": "code",
   "execution_count": 61,
   "id": "3d8ed35e",
   "metadata": {},
   "outputs": [],
   "source": [
    "# Unsafe Connection\n",
    "from sqlalchemy import create_engine, text\n",
    "import pandas as pd\n",
    "\n",
    "server = \"OOO\"\n",
    "database = \"bokhandel\"\n",
    "driver = \"ODBC Driver 17 for SQL Server\"\n",
    "\n",
    "engine = create_engine(f\"mssql+pyodbc://{server}/{database}?Trusted_Connection=yes&driver={driver}\")"
   ]
  },
  {
   "cell_type": "code",
   "execution_count": null,
   "id": "0432f5c6",
   "metadata": {},
   "outputs": [
    {
     "data": {
      "application/vnd.microsoft.datawrangler.viewer.v0+json": {
       "columns": [
        {
         "name": "index",
         "rawType": "int64",
         "type": "integer"
        },
        {
         "name": "ButikID",
         "rawType": "int64",
         "type": "integer"
        },
        {
         "name": "ISBN13",
         "rawType": "object",
         "type": "string"
        },
        {
         "name": "Antal",
         "rawType": "int64",
         "type": "integer"
        }
       ],
       "conversionMethod": "pd.DataFrame",
       "ref": "e0eef396-0b42-4e69-89e0-5ca7c39b9c70",
       "rows": [
        [
         "0",
         "1",
         "978-0-679-72981-7",
         "9"
        ],
        [
         "1",
         "2",
         "978-0-679-72981-7",
         "6"
        ]
       ],
       "shape": {
        "columns": 3,
        "rows": 2
       }
      },
      "text/html": [
       "<div>\n",
       "<style scoped>\n",
       "    .dataframe tbody tr th:only-of-type {\n",
       "        vertical-align: middle;\n",
       "    }\n",
       "\n",
       "    .dataframe tbody tr th {\n",
       "        vertical-align: top;\n",
       "    }\n",
       "\n",
       "    .dataframe thead th {\n",
       "        text-align: right;\n",
       "    }\n",
       "</style>\n",
       "<table border=\"1\" class=\"dataframe\">\n",
       "  <thead>\n",
       "    <tr style=\"text-align: right;\">\n",
       "      <th></th>\n",
       "      <th>ButikID</th>\n",
       "      <th>ISBN13</th>\n",
       "      <th>Antal</th>\n",
       "    </tr>\n",
       "  </thead>\n",
       "  <tbody>\n",
       "    <tr>\n",
       "      <th>0</th>\n",
       "      <td>1</td>\n",
       "      <td>978-0-679-72981-7</td>\n",
       "      <td>9</td>\n",
       "    </tr>\n",
       "    <tr>\n",
       "      <th>1</th>\n",
       "      <td>2</td>\n",
       "      <td>978-0-679-72981-7</td>\n",
       "      <td>6</td>\n",
       "    </tr>\n",
       "  </tbody>\n",
       "</table>\n",
       "</div>"
      ],
      "text/plain": [
       "   ButikID             ISBN13  Antal\n",
       "0        1  978-0-679-72981-7      9\n",
       "1        2  978-0-679-72981-7      6"
      ]
     },
     "execution_count": 68,
     "metadata": {},
     "output_type": "execute_result"
    }
   ],
   "source": [
    "stored_procedure = \"EXEC FlyttaBok @från = 1, @till = 2, @isbn = '978-0-679-72981-7';\"\n",
    "query = \"SELECT * FROM [LagerSaldo] WHERE [ISBN13] = '978-0-679-72981-7';\"\n",
    "\n",
    "with engine.connect() as connection:\n",
    "    connection.execute(text(stored_procedure))\n",
    "    connection.commit()\n",
    "    result = connection.execute(text(query)) \n",
    "    df = pd.DataFrame(data=result, columns=[\"ButikID\", \"ISBN13\", \"Antal\"] )\n",
    "df"
   ]
  }
 ],
 "metadata": {
  "kernelspec": {
   "display_name": ".sqlvenv",
   "language": "python",
   "name": "python3"
  },
  "language_info": {
   "codemirror_mode": {
    "name": "ipython",
    "version": 3
   },
   "file_extension": ".py",
   "mimetype": "text/x-python",
   "name": "python",
   "nbconvert_exporter": "python",
   "pygments_lexer": "ipython3",
   "version": "3.12.5"
  }
 },
 "nbformat": 4,
 "nbformat_minor": 5
}
