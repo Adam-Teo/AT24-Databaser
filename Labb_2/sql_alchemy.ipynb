{
 "cells": [
  {
   "cell_type": "markdown",
   "id": "52bfff13",
   "metadata": {},
   "source": [
    "# Connections\n",
    "This is an example of an unsafe connection that uses windows authentication and that does not restrict the user in any way."
   ]
  },
  {
   "cell_type": "code",
   "execution_count": 13,
   "id": "00a2d43b",
   "metadata": {},
   "outputs": [],
   "source": [
    "\n",
    "# Unsafe Connection\n",
    "from sqlalchemy import create_engine, text\n",
    "import pandas as pd\n",
    "\n",
    "server = \"OOO\"\n",
    "database = \"bokhandel\"\n",
    "driver = \"ODBC Driver 17 for SQL Server\"\n",
    "\n",
    "engine = create_engine(f\"mssql+pyodbc://{server}/{database}?Trusted_Connection=yes&driver={driver}\")"
   ]
  },
  {
   "cell_type": "markdown",
   "id": "308a92b4",
   "metadata": {},
   "source": [
    "This is an example of safer connection that requires a sepcfic user. \n",
    "The user is named `new_user` and has the password `abc` (a super safe and secure password).\n",
    "The new_user is stored in the database under `Security\\User` folder. One can access the user settings in a program like SQL Server Managment where one can see what premisions the user has, in this case new_user only has the SELECT premmison, preventing the user from altering the contetns of the database in any way."
   ]
  },
  {
   "cell_type": "code",
   "execution_count": 49,
   "id": "ed0211c0",
   "metadata": {},
   "outputs": [],
   "source": [
    "\n",
    "# Safe User Based Connection\n",
    "from sqlalchemy import create_engine, text\n",
    "import pandas as pd\n",
    "\n",
    "server = \"OOO\"\n",
    "database = \"bokhandel\"\n",
    "driver = \"ODBC Driver 17 for SQL Server\"\n",
    "user = 'new_user' \n",
    "password = 'abc'\n",
    "\n",
    "engine = create_engine(f\"mssql+pyodbc://{user}:{password}@{server}/{database}?driver={driver}\")"
   ]
  },
  {
   "cell_type": "markdown",
   "id": "83178347",
   "metadata": {},
   "source": [
    "# Safe Queries\n",
    "You can also use Alchemy in defferent ways, some ways are more secure then others.\n",
    "In the first eample we use and f string which isn't very secure and if one runs this \n",
    "cell it will trigger an SQL injection and drop the TABLE Lagersaldo"
   ]
  },
  {
   "cell_type": "code",
   "execution_count": 14,
   "id": "7eb805f4",
   "metadata": {},
   "outputs": [],
   "source": [
    "# Unsafe Query, if you have a safe user based connection where the user is \n",
    "# restricted to SELECT then this whould be safe \n",
    "user_input = \"bobs bookshop'; DROP TABLE LagerSaldo --\"\n",
    "query = f\"\"\" \n",
    "SELECT ButiksNamn\n",
    "FROM [Butiker] \n",
    "WHERE ButiksNamn LIKE '%{user_input}%'\n",
    "\"\"\"\n",
    "\n",
    "with engine.connect() as connection:\n",
    "    result = connection.execute(text(query))\n",
    "    connection.commit()"
   ]
  },
  {
   "cell_type": "markdown",
   "id": "594305cd",
   "metadata": {},
   "source": [
    "The following implmentation of Alchemy Queris usings :user_value instead of {} in f string is \n",
    "much more secure as it allows Alchemy to intercept SQL injections. If one runs this cell the \n",
    "table wont drop and an error will be thrown."
   ]
  },
  {
   "cell_type": "code",
   "execution_count": 47,
   "id": "d079e2fb",
   "metadata": {},
   "outputs": [
    {
     "name": "stdout",
     "output_type": "stream",
     "text": [
      "  ButiksNamn\n",
      "0    The Fox\n",
      "---\n",
      "Empty DataFrame\n",
      "Columns: [ButiksNamn]\n",
      "Index: []\n"
     ]
    }
   ],
   "source": [
    "# Safe Query, this could be used with the unsafe connection and \n",
    "# still prevent the SQL injection because SQL Alchemy handels the \n",
    "# string sanitization  \n",
    "query = f\"\"\" \n",
    "SELECT ButiksNamn\n",
    "FROM [Butiker] \n",
    "WHERE ButiksNamn LIKE :user_value\n",
    "\"\"\"\n",
    "\n",
    "# Without the Injection\n",
    "user_input = \"Fox\"\n",
    "\n",
    "with engine.connect() as connection:\n",
    "    result = connection.execute(text(query), {\"user_value\": f\"%{user_input}%\"})\n",
    "    df = pd.DataFrame(data=result, columns=[\"ButiksNamn\"] )\n",
    "    connection.commit()\n",
    "    \n",
    "print(df)\n",
    "print('---')\n",
    "\n",
    "# With the Injection\n",
    "user_input = \"bobs bookshop'; DROP TABLE LagerSaldo --\"\n",
    "\n",
    "with engine.connect() as connection:\n",
    "    result = connection.execute(text(query), {\"user_value\": f\"%{user_input}%\"})\n",
    "    df = pd.DataFrame(data=result, columns=[\"ButiksNamn\"] )\n",
    "    connection.commit()\n",
    "    \n",
    "print(df)\n",
    "    "
   ]
  },
  {
   "cell_type": "markdown",
   "id": "203c591c",
   "metadata": {},
   "source": [
    "# Fritextsökning\n",
    "\n",
    "Some books that are in the database:\n",
    "\n",
    "The Big Smile\n",
    "Small Onion\n",
    "A Tree of Light\n",
    "Gloomestate\n",
    "A Dream of Sand\n"
   ]
  },
  {
   "cell_type": "code",
   "execution_count": 62,
   "id": "1620bcd5",
   "metadata": {},
   "outputs": [
    {
     "data": {
      "application/vnd.microsoft.datawrangler.viewer.v0+json": {
       "columns": [
        {
         "name": "index",
         "rawType": "int64",
         "type": "integer"
        },
        {
         "name": "Butik",
         "rawType": "object",
         "type": "string"
        },
        {
         "name": "Boktitle",
         "rawType": "object",
         "type": "string"
        },
        {
         "name": "Exemplar",
         "rawType": "int64",
         "type": "integer"
        }
       ],
       "conversionMethod": "pd.DataFrame",
       "ref": "02f90f37-fc6b-4197-befd-4d8bb416f1c6",
       "rows": [
        [
         "0",
         "The Hound",
         "A Tree of Light",
         "28"
        ],
        [
         "1",
         "The Badger",
         "A Tree of Light",
         "18"
        ]
       ],
       "shape": {
        "columns": 3,
        "rows": 2
       }
      },
      "text/html": [
       "<div>\n",
       "<style scoped>\n",
       "    .dataframe tbody tr th:only-of-type {\n",
       "        vertical-align: middle;\n",
       "    }\n",
       "\n",
       "    .dataframe tbody tr th {\n",
       "        vertical-align: top;\n",
       "    }\n",
       "\n",
       "    .dataframe thead th {\n",
       "        text-align: right;\n",
       "    }\n",
       "</style>\n",
       "<table border=\"1\" class=\"dataframe\">\n",
       "  <thead>\n",
       "    <tr style=\"text-align: right;\">\n",
       "      <th></th>\n",
       "      <th>Butik</th>\n",
       "      <th>Boktitle</th>\n",
       "      <th>Exemplar</th>\n",
       "    </tr>\n",
       "  </thead>\n",
       "  <tbody>\n",
       "    <tr>\n",
       "      <th>0</th>\n",
       "      <td>The Hound</td>\n",
       "      <td>A Tree of Light</td>\n",
       "      <td>28</td>\n",
       "    </tr>\n",
       "    <tr>\n",
       "      <th>1</th>\n",
       "      <td>The Badger</td>\n",
       "      <td>A Tree of Light</td>\n",
       "      <td>18</td>\n",
       "    </tr>\n",
       "  </tbody>\n",
       "</table>\n",
       "</div>"
      ],
      "text/plain": [
       "        Butik         Boktitle  Exemplar\n",
       "0   The Hound  A Tree of Light        28\n",
       "1  The Badger  A Tree of Light        18"
      ]
     },
     "execution_count": 62,
     "metadata": {},
     "output_type": "execute_result"
    }
   ],
   "source": [
    "user_input = input()\n",
    "query = f\"\"\" \n",
    "SELECT ButiksNamn, Title, Antal\n",
    "FROM [Butiker] \n",
    "JOIN [LagerSaldo] ON [Butiker].[ID] = [LagerSaldo].[ButikID]\n",
    "JOIN [Böcker] ON [LagerSaldo].[ISBN13] = [Böcker].[ISBN13]\n",
    "WHERE Title LIKE '%{user_input}%'\n",
    "\"\"\"\n",
    "\n",
    "with engine.connect() as connection:\n",
    "    result = connection.execute(text(query))\n",
    "    df = pd.DataFrame(data=result, columns=[\"Butik\", \"Boktitle\", \"Exemplar\"] )\n",
    "df\n"
   ]
  },
  {
   "cell_type": "markdown",
   "id": "e96c93f6",
   "metadata": {},
   "source": [
    "# TABELS and Columns\n",
    "\n",
    "### Tabel: Böcker\n",
    "Besides PRIMARY KEY the CONSTRAINT on ISBN13 where set to\n",
    "    CHECK ([ISBN13] LIKE '___-_-___-_____-_') \n",
    "Which makes sure the length and formating of the ISBN13 string\n",
    "is correct thanks to the _ wildcard, howerver it can safegaurd against putting in letters instead of numbers. \n",
    "Two more colums where added, 'AntalSidor' aka how many pages there is the book and 'Format' of the book ex pocket or bunden\n",
    "\n",
    "### Table : Inköp \n",
    "This is one of four new tables that contains the order that the bookstores have placed. It contains data such as the amount of books when the books where ordered and when there excpected to arrive. This seems like a usefull table for stores to have to keep track of orders in progress as well as being able to refere back to past orders. \n",
    "\n",
    "### Tables: Anstälda & Roll\n",
    "Anstälda is the secnond new table, it contains the contact information for the employes that working at the stores, it also linked to the third new table that contains the rolls that the employes takes on, in this case the rolls is a seperate table allowing for the personal to have multiple jobs like 'Inköpare' och 'Butiksägare'. \n",
    "These can be good for a bookshop to have so one can easily find the contact information for the employees and if you want to contact another store the roller will help you find the right person in an other store.\n",
    "\n",
    "### Table: Genre \n",
    "This is the forth table and it allows one book to have multiple genres and it can make it easier for the store to check what type of genres sell the best.\n"
   ]
  },
  {
   "cell_type": "markdown",
   "id": "519cb26b",
   "metadata": {},
   "source": [
    "# VIEW \n",
    "\n",
    "### TitlarPerFörfatter\n",
    "Lagerantal was addad to give some more context to Lagervärde.\n",
    "There might have been a better solution but because Namn used an Alias that wasen't created untill after the GROUP BY part had been executed and Namn needed to be either aggregated or added to the GROUP BY else the query wouldn't have worked. The soluntion was to use CROSS APPLY so that the Alias could be declared before the GROUP BY and thus could be used with the GROUP BY.\n"
   ]
  },
  {
   "cell_type": "code",
   "execution_count": 44,
   "id": "ee52ebcd",
   "metadata": {},
   "outputs": [
    {
     "data": {
      "application/vnd.microsoft.datawrangler.viewer.v0+json": {
       "columns": [
        {
         "name": "index",
         "rawType": "int64",
         "type": "integer"
        },
        {
         "name": "Namn",
         "rawType": "object",
         "type": "string"
        },
        {
         "name": "Ålder",
         "rawType": "object",
         "type": "string"
        },
        {
         "name": "Titlar",
         "rawType": "object",
         "type": "string"
        },
        {
         "name": "Lagerantal",
         "rawType": "object",
         "type": "string"
        },
        {
         "name": "Lagervärde",
         "rawType": "object",
         "type": "string"
        }
       ],
       "conversionMethod": "pd.DataFrame",
       "ref": "279d1056-ab1a-4f4f-b451-6913d88b3b64",
       "rows": [
        [
         "0",
         "Will Russel",
         "70 År",
         "4 st",
         "66 st",
         "3419 kr"
        ]
       ],
       "shape": {
        "columns": 5,
        "rows": 1
       }
      },
      "text/html": [
       "<div>\n",
       "<style scoped>\n",
       "    .dataframe tbody tr th:only-of-type {\n",
       "        vertical-align: middle;\n",
       "    }\n",
       "\n",
       "    .dataframe tbody tr th {\n",
       "        vertical-align: top;\n",
       "    }\n",
       "\n",
       "    .dataframe thead th {\n",
       "        text-align: right;\n",
       "    }\n",
       "</style>\n",
       "<table border=\"1\" class=\"dataframe\">\n",
       "  <thead>\n",
       "    <tr style=\"text-align: right;\">\n",
       "      <th></th>\n",
       "      <th>Namn</th>\n",
       "      <th>Ålder</th>\n",
       "      <th>Titlar</th>\n",
       "      <th>Lagerantal</th>\n",
       "      <th>Lagervärde</th>\n",
       "    </tr>\n",
       "  </thead>\n",
       "  <tbody>\n",
       "    <tr>\n",
       "      <th>0</th>\n",
       "      <td>Will Russel</td>\n",
       "      <td>70 År</td>\n",
       "      <td>4 st</td>\n",
       "      <td>66 st</td>\n",
       "      <td>3419 kr</td>\n",
       "    </tr>\n",
       "  </tbody>\n",
       "</table>\n",
       "</div>"
      ],
      "text/plain": [
       "          Namn  Ålder Titlar Lagerantal Lagervärde\n",
       "0  Will Russel  70 År   4 st      66 st    3419 kr"
      ]
     },
     "execution_count": 44,
     "metadata": {},
     "output_type": "execute_result"
    }
   ],
   "source": [
    "query = \"SELECT TOP 1 * FROM TitlarPerFörfattare\"\n",
    "with engine.connect() as connection:\n",
    "    result = connection.execute(text(query))\n",
    "    df = pd.DataFrame(data=result, columns=[\"Namn\", \"Ålder\", \"Titlar\", \"Lagerantal\", \"Lagervärde\"] )\n",
    "df"
   ]
  },
  {
   "cell_type": "markdown",
   "id": "0cd0f026",
   "metadata": {},
   "source": [
    "### Personalinköp\n",
    "This View keeps tracks on how many books a employ has order and the total value of the books. This could be an intresting statistic to keep track of, it can indicate when a store needs to hire a person dedicated to placing orders or if coupled with how well books have sold this could indicate conditions for a promotion.  \n",
    "\n",
    "It uses two new tables `Inköp` and `Anstälda`"
   ]
  },
  {
   "cell_type": "code",
   "execution_count": 45,
   "id": "0ae1335d",
   "metadata": {},
   "outputs": [
    {
     "data": {
      "application/vnd.microsoft.datawrangler.viewer.v0+json": {
       "columns": [
        {
         "name": "index",
         "rawType": "int64",
         "type": "integer"
        },
        {
         "name": "Namn",
         "rawType": "object",
         "type": "string"
        },
        {
         "name": "Antal Bestälda Böcker",
         "rawType": "object",
         "type": "string"
        },
        {
         "name": "Totatlt Bestälnings Värde",
         "rawType": "object",
         "type": "string"
        }
       ],
       "conversionMethod": "pd.DataFrame",
       "ref": "e33bd4e2-e0fe-42d8-84e7-8b6c1878d4b7",
       "rows": [
        [
         "0",
         "David Svensson",
         "16 st",
         "984 kr"
        ],
        [
         "1",
         "Erik Bergman",
         "13 st",
         "599 kr"
        ],
        [
         "2",
         "Fatima Khan",
         "28 st",
         "2503 kr"
        ],
        [
         "3",
         "Johana Strong",
         "98 st",
         "6298 kr"
        ],
        [
         "4",
         "Julia Eriksson",
         "49 st",
         "4118 kr"
        ]
       ],
       "shape": {
        "columns": 3,
        "rows": 5
       }
      },
      "text/html": [
       "<div>\n",
       "<style scoped>\n",
       "    .dataframe tbody tr th:only-of-type {\n",
       "        vertical-align: middle;\n",
       "    }\n",
       "\n",
       "    .dataframe tbody tr th {\n",
       "        vertical-align: top;\n",
       "    }\n",
       "\n",
       "    .dataframe thead th {\n",
       "        text-align: right;\n",
       "    }\n",
       "</style>\n",
       "<table border=\"1\" class=\"dataframe\">\n",
       "  <thead>\n",
       "    <tr style=\"text-align: right;\">\n",
       "      <th></th>\n",
       "      <th>Namn</th>\n",
       "      <th>Antal Bestälda Böcker</th>\n",
       "      <th>Totatlt Bestälnings Värde</th>\n",
       "    </tr>\n",
       "  </thead>\n",
       "  <tbody>\n",
       "    <tr>\n",
       "      <th>0</th>\n",
       "      <td>David Svensson</td>\n",
       "      <td>16 st</td>\n",
       "      <td>984 kr</td>\n",
       "    </tr>\n",
       "    <tr>\n",
       "      <th>1</th>\n",
       "      <td>Erik Bergman</td>\n",
       "      <td>13 st</td>\n",
       "      <td>599 kr</td>\n",
       "    </tr>\n",
       "    <tr>\n",
       "      <th>2</th>\n",
       "      <td>Fatima Khan</td>\n",
       "      <td>28 st</td>\n",
       "      <td>2503 kr</td>\n",
       "    </tr>\n",
       "    <tr>\n",
       "      <th>3</th>\n",
       "      <td>Johana Strong</td>\n",
       "      <td>98 st</td>\n",
       "      <td>6298 kr</td>\n",
       "    </tr>\n",
       "    <tr>\n",
       "      <th>4</th>\n",
       "      <td>Julia Eriksson</td>\n",
       "      <td>49 st</td>\n",
       "      <td>4118 kr</td>\n",
       "    </tr>\n",
       "  </tbody>\n",
       "</table>\n",
       "</div>"
      ],
      "text/plain": [
       "             Namn Antal Bestälda Böcker Totatlt Bestälnings Värde\n",
       "0  David Svensson                 16 st                    984 kr\n",
       "1    Erik Bergman                 13 st                    599 kr\n",
       "2     Fatima Khan                 28 st                   2503 kr\n",
       "3   Johana Strong                 98 st                   6298 kr\n",
       "4  Julia Eriksson                 49 st                   4118 kr"
      ]
     },
     "execution_count": 45,
     "metadata": {},
     "output_type": "execute_result"
    }
   ],
   "source": [
    "query = \"SELECT TOP 5 * FROM Personalinköp \"\n",
    "with engine.connect() as connection:\n",
    "    result = connection.execute(text(query))\n",
    "    df = pd.DataFrame(data=result, columns=[\"Namn\", \"Antal Bestälda Böcker\", \"Totatlt Bestälnings Värde\"] )\n",
    "df"
   ]
  },
  {
   "cell_type": "markdown",
   "id": "d95c873d",
   "metadata": {},
   "source": [
    "# Stored Porcedure\n",
    "\n",
    "\n",
    "I used an LLM `Gemini 2.0` to generate the TRY Catch and Error part of the Store Procedure\n",
    "\n",
    "    I have this t-sql code and I have a CONSTRAINT on Antal, \n",
    "    Antal can never be lower then 0. I'm using BEGIN TRANSACTION to try \n",
    "    and prevent the first UPDATE to execute unless the second UPDATE also \n",
    "    gets executed but it doesn't work, the second UPDATE fail and the \n",
    "    first UPDATE stil gets executed\n",
    "    ` CODE `\n",
    "\n",
    "    ...\n",
    "\n",
    "    Gem I have this t-sql stored procedure, it works but the problem is \n",
    "    that it doesn't rollback when one of the updates effekts zero rows\n",
    "    ` CODE `\n",
    "\n",
    "\n",
    "The user can't execute this Stored Procedure because it alters tthe tables of the database.\n",
    "I should give the user more access or use a differnt user account, but I'm lazy and so \n",
    "I am going with the Unsafe Windows Authentication Connection."
   ]
  },
  {
   "cell_type": "code",
   "execution_count": 64,
   "id": "3d8ed35e",
   "metadata": {},
   "outputs": [],
   "source": [
    "# Unsafe Connection\n",
    "from sqlalchemy import create_engine, text\n",
    "import pandas as pd\n",
    "\n",
    "server = \"OOO\"\n",
    "database = \"bokhandel\"\n",
    "driver = \"ODBC Driver 17 for SQL Server\"\n",
    "\n",
    "engine = create_engine(f\"mssql+pyodbc://{server}/{database}?Trusted_Connection=yes&driver={driver}\")"
   ]
  },
  {
   "cell_type": "code",
   "execution_count": null,
   "id": "0432f5c6",
   "metadata": {},
   "outputs": [
    {
     "data": {
      "application/vnd.microsoft.datawrangler.viewer.v0+json": {
       "columns": [
        {
         "name": "index",
         "rawType": "int64",
         "type": "integer"
        },
        {
         "name": "ButikID",
         "rawType": "int64",
         "type": "integer"
        },
        {
         "name": "ISBN13",
         "rawType": "object",
         "type": "string"
        },
        {
         "name": "Antal",
         "rawType": "int64",
         "type": "integer"
        }
       ],
       "conversionMethod": "pd.DataFrame",
       "ref": "c039deac-0d68-4258-abb2-499efb21da5a",
       "rows": [
        [
         "0",
         "1",
         "978-0-679-72981-7",
         "7"
        ],
        [
         "1",
         "2",
         "978-0-679-72981-7",
         "8"
        ]
       ],
       "shape": {
        "columns": 3,
        "rows": 2
       }
      },
      "text/html": [
       "<div>\n",
       "<style scoped>\n",
       "    .dataframe tbody tr th:only-of-type {\n",
       "        vertical-align: middle;\n",
       "    }\n",
       "\n",
       "    .dataframe tbody tr th {\n",
       "        vertical-align: top;\n",
       "    }\n",
       "\n",
       "    .dataframe thead th {\n",
       "        text-align: right;\n",
       "    }\n",
       "</style>\n",
       "<table border=\"1\" class=\"dataframe\">\n",
       "  <thead>\n",
       "    <tr style=\"text-align: right;\">\n",
       "      <th></th>\n",
       "      <th>ButikID</th>\n",
       "      <th>ISBN13</th>\n",
       "      <th>Antal</th>\n",
       "    </tr>\n",
       "  </thead>\n",
       "  <tbody>\n",
       "    <tr>\n",
       "      <th>0</th>\n",
       "      <td>1</td>\n",
       "      <td>978-0-679-72981-7</td>\n",
       "      <td>7</td>\n",
       "    </tr>\n",
       "    <tr>\n",
       "      <th>1</th>\n",
       "      <td>2</td>\n",
       "      <td>978-0-679-72981-7</td>\n",
       "      <td>8</td>\n",
       "    </tr>\n",
       "  </tbody>\n",
       "</table>\n",
       "</div>"
      ],
      "text/plain": [
       "   ButikID             ISBN13  Antal\n",
       "0        1  978-0-679-72981-7      7\n",
       "1        2  978-0-679-72981-7      8"
      ]
     },
     "execution_count": 141,
     "metadata": {},
     "output_type": "execute_result"
    }
   ],
   "source": [
    "stored_procedure = \"EXEC FlyttaBok @från = 1, @till = 2, @isbn = '978-0-679-72981-7', @antal = 2;\"\n",
    "query = \"SELECT * FROM [LagerSaldo] WHERE [ISBN13] = '978-0-679-72981-7';\"\n",
    "\n",
    "with engine.connect() as connection:\n",
    "    connection.execute(text(stored_procedure))\n",
    "    connection.commit()\n",
    "    result = connection.execute(text(query)) \n",
    "    df = pd.DataFrame(data=result, columns=[\"ButikID\", \"ISBN13\", \"Antal\"] )\n",
    "df"
   ]
  },
  {
   "cell_type": "markdown",
   "id": "6b2a27dd",
   "metadata": {},
   "source": [
    "# Many to Many"
   ]
  },
  {
   "cell_type": "code",
   "execution_count": 4,
   "id": "0782689c",
   "metadata": {},
   "outputs": [
    {
     "data": {
      "application/vnd.microsoft.datawrangler.viewer.v0+json": {
       "columns": [
        {
         "name": "index",
         "rawType": "int64",
         "type": "integer"
        },
        {
         "name": "Namn",
         "rawType": "object",
         "type": "string"
        },
        {
         "name": "Title",
         "rawType": "object",
         "type": "string"
        }
       ],
       "conversionMethod": "pd.DataFrame",
       "ref": "efe2a9b7-5703-4280-bdfd-48954cdf829b",
       "rows": [
        [
         "0",
         "Gabby Addams",
         "Town of Feathers"
        ],
        [
         "1",
         "Gabby Addams",
         "Nightmare Friday"
        ],
        [
         "2",
         "Marcus Twin",
         "The Big Smile"
        ],
        [
         "3",
         "Gabby Addams",
         "The Big Smile"
        ]
       ],
       "shape": {
        "columns": 2,
        "rows": 4
       }
      },
      "text/html": [
       "<div>\n",
       "<style scoped>\n",
       "    .dataframe tbody tr th:only-of-type {\n",
       "        vertical-align: middle;\n",
       "    }\n",
       "\n",
       "    .dataframe tbody tr th {\n",
       "        vertical-align: top;\n",
       "    }\n",
       "\n",
       "    .dataframe thead th {\n",
       "        text-align: right;\n",
       "    }\n",
       "</style>\n",
       "<table border=\"1\" class=\"dataframe\">\n",
       "  <thead>\n",
       "    <tr style=\"text-align: right;\">\n",
       "      <th></th>\n",
       "      <th>Namn</th>\n",
       "      <th>Title</th>\n",
       "    </tr>\n",
       "  </thead>\n",
       "  <tbody>\n",
       "    <tr>\n",
       "      <th>0</th>\n",
       "      <td>Gabby Addams</td>\n",
       "      <td>Town of Feathers</td>\n",
       "    </tr>\n",
       "    <tr>\n",
       "      <th>1</th>\n",
       "      <td>Gabby Addams</td>\n",
       "      <td>Nightmare Friday</td>\n",
       "    </tr>\n",
       "    <tr>\n",
       "      <th>2</th>\n",
       "      <td>Marcus Twin</td>\n",
       "      <td>The Big Smile</td>\n",
       "    </tr>\n",
       "    <tr>\n",
       "      <th>3</th>\n",
       "      <td>Gabby Addams</td>\n",
       "      <td>The Big Smile</td>\n",
       "    </tr>\n",
       "  </tbody>\n",
       "</table>\n",
       "</div>"
      ],
      "text/plain": [
       "           Namn             Title\n",
       "0  Gabby Addams  Town of Feathers\n",
       "1  Gabby Addams  Nightmare Friday\n",
       "2   Marcus Twin     The Big Smile\n",
       "3  Gabby Addams     The Big Smile"
      ]
     },
     "execution_count": 4,
     "metadata": {},
     "output_type": "execute_result"
    }
   ],
   "source": [
    "query = \"\"\"\n",
    "SELECT CONCAT(Förnamn, ' ', Efternamn) AS Namn, Title\n",
    "FROM Författare_Böcker fb \n",
    "JOIN Böcker b ON b.ISBN13 = fb.BöckerISBN13\n",
    "JOIN Författare f ON f.ID = fb.FörfattareID\n",
    "WHERE ISBN13 = '978-0-208-15699-2' OR Förnamn = 'Gabby'\n",
    "\"\"\"\n",
    "\n",
    "with engine.connect() as connection:\n",
    "    result = connection.execute(text(query))\n",
    "    df = pd.DataFrame(data=result, columns=[\"Namn\", \"Title\"] )\n",
    "df"
   ]
  },
  {
   "cell_type": "markdown",
   "id": "1f1214ab",
   "metadata": {},
   "source": [
    "# ER-Diagram\n",
    "Can be found saved in the database in the folder `Databse Diagrams`"
   ]
  },
  {
   "cell_type": "markdown",
   "id": "861326f3",
   "metadata": {},
   "source": [
    "# LLM \n",
    "Besides part of the Stored Procedure, large chunks of the sample data was generated\n",
    "but an the LLM `Gemini 2.0`"
   ]
  }
 ],
 "metadata": {
  "kernelspec": {
   "display_name": ".sqlvenv",
   "language": "python",
   "name": "python3"
  },
  "language_info": {
   "codemirror_mode": {
    "name": "ipython",
    "version": 3
   },
   "file_extension": ".py",
   "mimetype": "text/x-python",
   "name": "python",
   "nbconvert_exporter": "python",
   "pygments_lexer": "ipython3",
   "version": "3.12.5"
  }
 },
 "nbformat": 4,
 "nbformat_minor": 5
}
