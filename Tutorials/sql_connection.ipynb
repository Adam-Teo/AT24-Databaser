{
 "cells": [
  {
   "cell_type": "code",
   "execution_count": 41,
   "id": "811296df",
   "metadata": {},
   "outputs": [
    {
     "data": {
      "application/vnd.microsoft.datawrangler.viewer.v0+json": {
       "columns": [
        {
         "name": "index",
         "rawType": "int64",
         "type": "integer"
        },
        {
         "name": "index",
         "rawType": "int64",
         "type": "integer"
        },
        {
         "name": "animal",
         "rawType": "object",
         "type": "string"
        },
        {
         "name": "age",
         "rawType": "int64",
         "type": "integer"
        }
       ],
       "conversionMethod": "pd.DataFrame",
       "ref": "658033a8-fae5-4c94-ab3b-905fd13cea75",
       "rows": [
        [
         "0",
         "0",
         "cat",
         "11"
        ],
        [
         "1",
         "1",
         "dog",
         "5"
        ],
        [
         "2",
         "2",
         "parrot",
         "2"
        ]
       ],
       "shape": {
        "columns": 3,
        "rows": 3
       }
      },
      "text/html": [
       "<div>\n",
       "<style scoped>\n",
       "    .dataframe tbody tr th:only-of-type {\n",
       "        vertical-align: middle;\n",
       "    }\n",
       "\n",
       "    .dataframe tbody tr th {\n",
       "        vertical-align: top;\n",
       "    }\n",
       "\n",
       "    .dataframe thead th {\n",
       "        text-align: right;\n",
       "    }\n",
       "</style>\n",
       "<table border=\"1\" class=\"dataframe\">\n",
       "  <thead>\n",
       "    <tr style=\"text-align: right;\">\n",
       "      <th></th>\n",
       "      <th>index</th>\n",
       "      <th>animal</th>\n",
       "      <th>age</th>\n",
       "    </tr>\n",
       "  </thead>\n",
       "  <tbody>\n",
       "    <tr>\n",
       "      <th>0</th>\n",
       "      <td>0</td>\n",
       "      <td>cat</td>\n",
       "      <td>11</td>\n",
       "    </tr>\n",
       "    <tr>\n",
       "      <th>1</th>\n",
       "      <td>1</td>\n",
       "      <td>dog</td>\n",
       "      <td>5</td>\n",
       "    </tr>\n",
       "    <tr>\n",
       "      <th>2</th>\n",
       "      <td>2</td>\n",
       "      <td>parrot</td>\n",
       "      <td>2</td>\n",
       "    </tr>\n",
       "  </tbody>\n",
       "</table>\n",
       "</div>"
      ],
      "text/plain": [
       "   index  animal  age\n",
       "0      0     cat   11\n",
       "1      1     dog    5\n",
       "2      2  parrot    2"
      ]
     },
     "execution_count": 41,
     "metadata": {},
     "output_type": "execute_result"
    }
   ],
   "source": [
    "import pandas as pd\n",
    "from sqlalchemy import create_engine\n",
    "\n",
    "server = \"OOO\"\n",
    "database = \"test\"\n",
    "driver = \"ODBC Driver 17 for SQL Server\"\n",
    "\n",
    "engine = create_engine(f\"mssql+pyodbc://{server}/{database}?Trusted_Connection=yes&driver={driver}\")\n",
    "\n",
    "# conn = engine.connect()\n",
    "\n",
    "df = pd.DataFrame(data=[['cat',11],['dog',5],['parrot',2]], columns=('animal','age'))\n",
    "df.to_sql('animal_table', con=engine, if_exists='replace')\n",
    "\n",
    "query = \"SELECT * FROM animal_table\"\n",
    "df = pd.read_sql(query, con=engine)\n",
    "df"
   ]
  },
  {
   "cell_type": "code",
   "execution_count": 35,
   "id": "22a9a6b6",
   "metadata": {},
   "outputs": [
    {
     "name": "stdout",
     "output_type": "stream",
     "text": [
      "Successfully connected to everyloop!\n",
      "cat 11\n",
      "dog 5\n",
      "parrot 2\n"
     ]
    }
   ],
   "source": [
    "query = \"SELECT * FROM animal_table\"\n",
    "engine = create_engine(\"mssql+pyodbc://OOO/test?Trusted_Connection=yes&driver=ODBC Driver 17 for SQL Server\")\n",
    "with engine.connect() as connection:\n",
    "        print(f\"Successfully connected to everyloop!\")\n",
    "        result = connection.execute(text(query))\n",
    "        for row in result:\n",
    "                print(f\"{row.animal} {row.age}\")"
   ]
  },
  {
   "cell_type": "code",
   "execution_count": null,
   "id": "17c61065",
   "metadata": {},
   "outputs": [],
   "source": [
    "with engine.connect() as conn: \n",
    "\tresult = conn.execute(query)\n",
    "\tfor row in result:\n",
    "\t\tprint(f\"{row.animal} {row.age}\")"
   ]
  },
  {
   "cell_type": "code",
   "execution_count": 30,
   "id": "3991c525",
   "metadata": {},
   "outputs": [
    {
     "name": "stdout",
     "output_type": "stream",
     "text": [
      "cat 11\n",
      "dog 5\n",
      "parrot 2\n"
     ]
    }
   ],
   "source": [
    "import pandas as pd\n",
    "from sqlalchemy import create_engine, text\n",
    "\n",
    "engine = create_engine(\"mssql+pyodbc://OOO/test?Trusted_Connection=yes&driver=ODBC Driver 17 for SQL Server\")\n",
    "\n",
    "\n",
    "df = pd.DataFrame(data=[['cat',11],['dog',5],['parrot',2]], columns=('animal','age'))\n",
    "df.to_sql('animal_table', con=engine, if_exists='replace')\n",
    "\n",
    "query = \"SELECT * FROM animal_table\"\n",
    "\n",
    "with engine.connect() as conn: \n",
    "\tresult = conn.execute(text(query))\n",
    "\tfor row in result:\n",
    "\t\tprint(f\"{row.animal} {row.age}\")\n"
   ]
  },
  {
   "cell_type": "code",
   "execution_count": null,
   "id": "13983d04",
   "metadata": {},
   "outputs": [
    {
     "name": "stdout",
     "output_type": "stream",
     "text": [
      "Successfully connected to databse everyloop on server OOO!\n"
     ]
    }
   ],
   "source": [
    "from sqlalchemy import create_engine\n",
    "\n",
    "server = \"OOO\"\n",
    "database = \"everyloop\"\n",
    "driver = \"ODBC Driver 17 for SQL Server\"\n",
    "\n",
    "engine = create_engine(f\"mssql+pyodbc://{server}/{database}?Trusted_Connection=yes&driver={driver}\")\n",
    "\n",
    "with engine.connect() as connection:\n",
    " print(f\"Successfully connected to databse {database} on server {server}!\")\n",
    " \n",
    "\n",
    " "
   ]
  },
  {
   "cell_type": "code",
   "execution_count": null,
   "id": "77b0d955",
   "metadata": {},
   "outputs": [
    {
     "name": "stdout",
     "output_type": "stream",
     "text": [
      "id: 1, animal: cat, age: 3\n",
      "id: 2, animal: dog, age: 5\n",
      "id: 1, animal: cat, age: 3\n",
      "id: 2, animal: dog, age: 5\n"
     ]
    }
   ],
   "source": [
    "from sqlalchemy import create_engine, select, MetaData, Table, Column, Integer, String\n",
    "\n",
    "server = \"OOO\"\n",
    "database = \"everyloop\"\n",
    "driver = \"ODBC Driver 17 for SQL Server\"\n",
    "\n",
    "engine = create_engine(f\"mssql+pyodbc://{server}/{database}?Trusted_Connection=yes&driver={driver}\")\n",
    "\n",
    "# Create a Table\n",
    "meta = MetaData()\n",
    "animal_table = Table(\n",
    "    'animal_table', meta, \n",
    "    Column('id', Integer, primary_key = True),\n",
    "    Column('animal', String),\n",
    "    Column('age', Integer)\n",
    ")\n",
    "meta.drop_all(engine, checkfirst=True)\n",
    "meta.create_all(engine)\n",
    "\n",
    "# Insert Values into the Table\n",
    "with engine.connect() as connection:\n",
    "    connection.execute(\n",
    "        animal_table.insert().values([\n",
    "            {'id':1, 'animal': 'cat', 'age': 3},\n",
    "            {'id':2, 'animal': 'dog', 'age': 5}\n",
    "        ])\n",
    "    )\n",
    "    connection.commit()\n",
    "\n",
    "# Two Ways of Retrieving the Information from the Table \n",
    "with engine.connect() as connection:\n",
    "    # Using a raw SQL query with text()\n",
    "    result = connection.execute(text(\"SELECT id, animal, age FROM animal_table WHERE age > :age\"), {\"age\": 2})\n",
    "    for row in result:\n",
    "        print(f\"id: {row.id}, animal: {row.animal}, age: {row.age}\")\n",
    "\n",
    "    # Alternatively, using SQLAlchemy's Select statement (more ORM-like)\n",
    "    from sqlalchemy import select\n",
    "    stmt = select(animal_table.c.id, animal_table.c.animal, animal_table.c.age).where(animal_table.c.age > 2)\n",
    "    result = connection.execute(stmt)\n",
    "    for row in result:\n",
    "        print(f\"id: {row.id}, animal: {row.animal}, age: {row.age}\")\n"
   ]
  }
 ],
 "metadata": {
  "kernelspec": {
   "display_name": ".sqlvenv",
   "language": "python",
   "name": "python3"
  },
  "language_info": {
   "codemirror_mode": {
    "name": "ipython",
    "version": 3
   },
   "file_extension": ".py",
   "mimetype": "text/x-python",
   "name": "python",
   "nbconvert_exporter": "python",
   "pygments_lexer": "ipython3",
   "version": "3.12.5"
  }
 },
 "nbformat": 4,
 "nbformat_minor": 5
}
