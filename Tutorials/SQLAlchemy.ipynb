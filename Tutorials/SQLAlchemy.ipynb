{
 "cells": [
  {
   "cell_type": "code",
   "execution_count": null,
   "id": "563bfec1",
   "metadata": {},
   "outputs": [],
   "source": [
    "from sqlalchemy import create_engine\n",
    "import pandas as pd \n",
    "\n",
    "\n",
    "engine = create_engine(\"mssql+pyodbc://OOO/test?Trusted_Connection=yes&driver=ODBC Driver 17 for SQL Server\")\n",
    "\n",
    "# engine = create_engine('mssql+pyodbc://OOO/test?driver=SQL+Server?Trusted_Connection=yes')\n",
    "# engine = create_engine('mssql+pyodbc://OOO/test?driver=ODBC Driver 17 for SQL Server?Trusted_Connection=yes')\n",
    "conn = engine.connect()\n",
    "\n",
    "#engine = create_engine('mssql+pyodbc://OOO/test?Trusted_Connection=yes&driver=SQL+Server')\n",
    "# engine = create_engine(\"mssql+pyodbc://OOO/test?Trusted_Connection=yes&driver=SQL+Native+Client+11.0+Configuration\")\n",
    "# engine = create_engine(\"mssql+pyodbc://OOO/test?Trusted_Connection=yes&driver=SQL+Native+Client+11.0+Configuration+(32bit)\")\n",
    "# engine = create_engine(\"mssql+pyodbc://localhost/turtle?Trusted_connection=yes&drivers=SQL+Server+Native+Client+11.0\", echo=True, future=True)\n",
    "# engine = create_engine(\"mssql+pymssql:///localhost/turtle\", echo=True, future=True)\n",
    "# engine = create_engine(\"mssql+pyodbc://ooo/test?trusted_Connection=yes\", echo=True, future=True)\n",
    "# mssql\n",
    "#pyodbc==5.2.0\n",
    "#SQLAlchemy==2.0.40\n",
    "\n",
    "#df = pd.read_csv('test.csv')\n",
    "\n",
    "#df.to_sql('test_table', con=engine, if_exists='replace')\n",
    "\n",
    "#df.to_sql('test_table', con=engine, if_exists='replace')\n",
    "\n",
    "\n",
    "# name,age,date\n",
    "# mike,26,18/07/2021\n",
    "# amanda,34,12/01/1992\n"
   ]
  },
  {
   "cell_type": "code",
   "execution_count": 4,
   "id": "d6712a92",
   "metadata": {},
   "outputs": [],
   "source": [
    "from sqlalchemy import text\n",
    "with engine.connect() as conn:\n",
    "    conn.execute(text(\"CREATE TABLE some_table (x int, y int)\"))\n",
    "    conn.execute(\n",
    "        text(\"INSERT INTO some_table (x, y) VALUES (:x, :y)\"),\n",
    "        [{\"x\": 1, \"y\": 1}, {\"x\": 2, \"y\": 4}],\n",
    "    )\n",
    "    conn.commit()"
   ]
  },
  {
   "cell_type": "code",
   "execution_count": null,
   "id": "be3119df",
   "metadata": {},
   "outputs": [],
   "source": [
    "address_table = Table(\n",
    "    \"address\",\n",
    "    metadata_obj,\n",
    "    Column(\"id\", Integer, primary_key=True),\n",
    "    Column(\"user_id\", ForeignKey(\"user_account.id\"), nullable=False),\n",
    "    Column(\"email_address\", String, nullable=False),\n",
    ")"
   ]
  },
  {
   "cell_type": "code",
   "execution_count": 30,
   "id": "f7afdfe5",
   "metadata": {},
   "outputs": [],
   "source": [
    "with engine.connect() as conn:\n",
    "    conn.execute(text(f\"DROP TABLE cool_table_for_cool_people\"))\n",
    "    conn.commit()"
   ]
  },
  {
   "cell_type": "code",
   "execution_count": 31,
   "id": "d86df04f",
   "metadata": {},
   "outputs": [],
   "source": [
    "from sqlalchemy import text\n",
    "from sqlalchemy import ForeignKey\n",
    "\n",
    "\n",
    "with engine.connect() as conn:\n",
    "    conn.execute(text(f\"\"\"\n",
    "    CREATE TABLE cool_table_for_cool_people (\n",
    "        id int PRIMARY KEY, \n",
    "        name VARCHAR(MAX),\n",
    "        score FLOAT\n",
    "        )\n",
    "    \"\"\"))\n",
    "    conn.execute(\n",
    "        text(\"INSERT INTO cool_table_for_cool_people (id, name, score) VALUES (:id, :name, :score)\"),\n",
    "        [{\"id\": 1, \"name\": \"Steve Thompson\", \"score\": 5.32}, {\"id\": 2, \"name\": \"Lisa Slater\", \"score\": 5.89}],\n",
    "    )\n",
    "    conn.commit()\n"
   ]
  },
  {
   "cell_type": "code",
   "execution_count": 45,
   "id": "6643508e",
   "metadata": {},
   "outputs": [
    {
     "data": {
      "application/vnd.microsoft.datawrangler.viewer.v0+json": {
       "columns": [
        {
         "name": "index",
         "rawType": "int64",
         "type": "integer"
        },
        {
         "name": "id",
         "rawType": "int64",
         "type": "integer"
        },
        {
         "name": "name",
         "rawType": "object",
         "type": "string"
        },
        {
         "name": "score",
         "rawType": "float64",
         "type": "float"
        }
       ],
       "conversionMethod": "pd.DataFrame",
       "ref": "5f0e95da-aa80-44b9-bd4f-6c28959773fe",
       "rows": [
        [
         "0",
         "1",
         "Steve Thompson",
         "5.32"
        ],
        [
         "1",
         "2",
         "Lisa Slater",
         "5.89"
        ]
       ],
       "shape": {
        "columns": 3,
        "rows": 2
       }
      },
      "text/html": [
       "<div>\n",
       "<style scoped>\n",
       "    .dataframe tbody tr th:only-of-type {\n",
       "        vertical-align: middle;\n",
       "    }\n",
       "\n",
       "    .dataframe tbody tr th {\n",
       "        vertical-align: top;\n",
       "    }\n",
       "\n",
       "    .dataframe thead th {\n",
       "        text-align: right;\n",
       "    }\n",
       "</style>\n",
       "<table border=\"1\" class=\"dataframe\">\n",
       "  <thead>\n",
       "    <tr style=\"text-align: right;\">\n",
       "      <th></th>\n",
       "      <th>id</th>\n",
       "      <th>name</th>\n",
       "      <th>score</th>\n",
       "    </tr>\n",
       "  </thead>\n",
       "  <tbody>\n",
       "    <tr>\n",
       "      <th>0</th>\n",
       "      <td>1</td>\n",
       "      <td>Steve Thompson</td>\n",
       "      <td>5.32</td>\n",
       "    </tr>\n",
       "    <tr>\n",
       "      <th>1</th>\n",
       "      <td>2</td>\n",
       "      <td>Lisa Slater</td>\n",
       "      <td>5.89</td>\n",
       "    </tr>\n",
       "  </tbody>\n",
       "</table>\n",
       "</div>"
      ],
      "text/plain": [
       "   id            name  score\n",
       "0   1  Steve Thompson   5.32\n",
       "1   2     Lisa Slater   5.89"
      ]
     },
     "execution_count": 45,
     "metadata": {},
     "output_type": "execute_result"
    }
   ],
   "source": [
    "with engine.connect() as conn:\n",
    "    conn.execute(\n",
    "        text(\"SELECT * FROM cool_table_for_cool_people\"),\n",
    "    )\n",
    "    conn.commit()\n",
    "\n",
    "query=\"SELECT * FROM cool_table_for_cool_people\"\n",
    "df = pd.read_sql(query, con=engine)\n",
    "df\n"
   ]
  }
 ],
 "metadata": {
  "kernelspec": {
   "display_name": ".venv",
   "language": "python",
   "name": "python3"
  },
  "language_info": {
   "codemirror_mode": {
    "name": "ipython",
    "version": 3
   },
   "file_extension": ".py",
   "mimetype": "text/x-python",
   "name": "python",
   "nbconvert_exporter": "python",
   "pygments_lexer": "ipython3",
   "version": "3.12.5"
  }
 },
 "nbformat": 4,
 "nbformat_minor": 5
}
